{
  "nbformat": 4,
  "nbformat_minor": 0,
  "metadata": {
    "colab": {
      "provenance": [],
      "authorship_tag": "ABX9TyPWv/zx/V+sijLz4/rW8SUd",
      "include_colab_link": true
    },
    "kernelspec": {
      "name": "python3",
      "display_name": "Python 3"
    },
    "language_info": {
      "name": "python"
    }
  },
  "cells": [
    {
      "cell_type": "markdown",
      "metadata": {
        "id": "view-in-github",
        "colab_type": "text"
      },
      "source": [
        "<a href=\"https://colab.research.google.com/github/gourav-agent47/tradingAlgos/blob/main/44_SM.ipynb\" target=\"_parent\"><img src=\"https://colab.research.google.com/assets/colab-badge.svg\" alt=\"Open In Colab\"/></a>"
      ]
    },
    {
      "cell_type": "code",
      "source": [
        "%pip install pandas_ta\n",
        "%pip install yfinance\n",
        "%pip install nsetools"
      ],
      "metadata": {
        "id": "Ud4Fra9SbFhZ"
      },
      "execution_count": null,
      "outputs": []
    },
    {
      "cell_type": "code",
      "execution_count": 4,
      "metadata": {
        "id": "8ltstQwNWiCj"
      },
      "outputs": [],
      "source": [
        "import pandas as pd\n",
        "import yfinance as yf\n",
        "from nsetools import Nse\n",
        "from datetime import datetime"
      ]
    },
    {
      "cell_type": "code",
      "source": [
        "def get_nifty50_data():\n",
        "    nifty50_tickers = [\n",
        "    \"ABFRL.NS\", \"AEGISCHEM.NS\", \"AETHER.NS\", \"AFFLE.NS\", \"AJANTPHARM.NS\", \"APLLTD.NS\", \"ALKEM.NS\", \"ALKYLAMINE.NS\", \"ALLCARGO.NS\",\n",
        "    \"ALOKINDS.NS\", \"ARE&M.NS\", \"AMBER.NS\", \"AMBUJACEM.NS\", \"ANGELONE.NS\", \"ANURAS.NS\", \"APARINDS.NS\", \"APOLLOHOSP.NS\", \"APOLLOTYRE.NS\",\n",
        "    \"APTUS.NS\", \"ACI.NS\", \"ASAHIINDIA.NS\", \"ASHOKLEY.NS\", \"ASIANPAINT.NS\", \"ASTERDM.NS\", \"ASTRAL.NS\", \"ATUL.NS\", \"AUROPHARMA.NS\",\n",
        "    \"AVANTIFEED.NS\", \"DMART.NS\", \"AXISBANK.NS\", \"BEML.NS\", \"BLS.NS\", \"BSE.NS\", \"BAJAJ-AUTO.NS\", \"BAJFINANCE.NS\", \"BAJAJFINSV.NS\",\n",
        "    \"BAJAJHLDNG.NS\", \"BALAMINES.NS\", \"BALKRISIND.NS\", \"BALRAMCHIN.NS\", \"BANDHANBNK.NS\", \"BANKBARODA.NS\", \"BANKINDIA.NS\", \"MAHABANK.NS\",\n",
        "    \"BATAINDIA.NS\", \"BAYERCROP.NS\", \"BERGEPAINT.NS\", \"BDL.NS\", \"BEL.NS\", \"BHARATFORG.NS\", \"BHEL.NS\", \"BPCL.NS\", \"BHARTIARTL.NS\", \"BIKAJI.NS\",\n",
        "    \"BIOCON.NS\", \"BIRLACORPN.NS\", \"BSOFT.NS\", \"BLUEDART.NS\", \"BLUESTARCO.NS\", \"BBTC.NS\", \"BORORENEW.NS\", \"BOSCHLTD.NS\", \"BRIGADE.NS\", \"BCG.NS\",\n",
        "    \"BRITANNIA.NS\", \"MAPMYINDIA.NS\", \"CCL.NS\", \"CESC.NS\", \"CGPOWER.NS\", \"CIEINDIA.NS\", \"CRISIL.NS\", \"CSBBANK.NS\", \"CAMPUS.NS\", \"CANFINHOME.NS\",\n",
        "    \"CANBK.NS\", \"CGCL.NS\", \"CARBORUNIV.NS\", \"CASTROLIND.NS\", \"CEATLTD.NS\", \"CENTRALBK.NS\", \"CDSL.NS\", \"CENTURYPLY.NS\", \"CENTURYTEX.NS\", \"CERA.NS\",\n",
        "    \"CHALET.NS\", \"CHAMBLFERT.NS\", \"CHEMPLASTS.NS\", \"CHOLAHLDNG.NS\", \"CHOLAFIN.NS\", \"CIPLA.NS\", \"CUB.NS\", \"CLEAN.NS\", \"COALINDIA.NS\", \"COCHINSHIP.NS\",\n",
        "    \"COFORGE.NS\", \"COLPAL.NS\", \"CAMS.NS\", \"CONCORDBIO.NS\", \"CONCOR.NS\", \"COROMANDEL.NS\", \"CRAFTSMAN.NS\", \"CREDITACC.NS\", \"CROMPTON.NS\", \"CUMMINSIND.NS\",\n",
        "    \"CYIENT.NS\", \"DCMSHRIRAM.NS\", \"DLF.NS\", \"DABUR.NS\", \"DALBHARAT.NS\", \"DATAPATTNS.NS\", \"DEEPAKFERT.NS\", \"DEEPAKNTR.NS\", \"DELHIVERY.NS\", \"DELTACORP.NS\",\n",
        "    \"DEVYANI.NS\", \"DIVISLAB.NS\", \"DIXON.NS\", \"LALPATHLAB.NS\", \"DRREDDY.NS\", \"EIDPARRY.NS\", \"EIHOTEL.NS\", \"EPL.NS\", \"EASEMYTRIP.NS\", \"EICHERMOT.NS\",\n",
        "    \"ELGIEQUIP.NS\", \"EMAMILTD.NS\", \"ENDURANCE.NS\", \"ENGINERSIN.NS\", \"EPIGRAL.NS\", \"EQUITASBNK.NS\", \"ERIS.NS\", \"ESCORTS.NS\", \"EXIDEIND.NS\", \"FDC.NS\",\n",
        "    \"NYKAA.NS\", \"FEDERALBNK.NS\", \"FACT.NS\", \"FINEORG.NS\", \"FINCABLES.NS\", \"FINPIPE.NS\", \"FSL.NS\", \"FIVESTAR.NS\", \"FORTIS.NS\", \"GRINFRA.NS\", \"GAIL.NS\",\n",
        "    \"GMMPFAUDLR.NS\",     \"GMRINFRA.NS\", \"GALAXYSURF.NS\", \"GICRE.NS\", \"GILLETTE.NS\", \"GLAND.NS\", \"GLAXO.NS\", \"GLS.NS\", \"GLENMARK.NS\", \"MEDANTA.NS\", \"GOCOLORS.NS\",\n",
        "    \"GPIL.NS\", \"GODFRYPHLP.NS\", \"GODREJCP.NS\", \"GODREJIND.NS\", \"GODREJPROP.NS\", \"GRANULES.NS\", \"GRAPHITE.NS\", \"GRASIM.NS\", \"GESHIP.NS\", \"GRINDWELL.NS\",\n",
        "    \"GUJALKALI.NS\", \"GAEL.NS\", \"FLUOROCHEM.NS\", \"GUJGASLTD.NS\", \"GNFC.NS\", \"GPPL.NS\", \"GSFC.NS\", \"GSPL.NS\", \"HEG.NS\", \"HCLTECH.NS\", \"HDFCAMC.NS\", \"HDFCBANK.NS\",\n",
        "    \"HDFCLIFE.NS\", \"HFCL.NS\", \"HLEGLAS.NS\", \"HAPPSTMNDS.NS\", \"HAVELLS.NS\", \"HEROMOTOCO.NS\", \"HINDALCO.NS\", \"HAL.NS\", \"HINDCOPPER.NS\", \"HINDPETRO.NS\", \"HINDUNILVR.NS\",\n",
        "    \"HINDZINC.NS\", \"POWERINDIA.NS\", \"HOMEFIRST.NS\", \"HONAUT.NS\", \"HUDCO.NS\", \"ICICIBANK.NS\", \"ICICIGI.NS\", \"ICICIPRULI.NS\", \"ISEC.NS\", \"IDBI.NS\", \"IDFCFIRSTB.NS\", \"IDFC.NS\",\n",
        "    \"IIFL.NS\", \"IRB.NS\", \"IRCON.NS\", \"ITC.NS\", \"ITI.NS\", \"INDIACEM.NS\", \"IBULHSGFIN.NS\", \"INDIAMART.NS\", \"INDIANB.NS\", \"IEX.NS\", \"INDHOTEL.NS\", \"IOC.NS\", \"IOB.NS\", \"IRCTC.NS\", \"IRFC.NS\",\n",
        "    \"INDIGOPNTS.NS\", \"IGL.NS\", \"INDUSTOWER.NS\", \"INDUSINDBK.NS\", \"INFIBEAM.NS\", \"NAUKRI.NS\", \"INFY.NS\", \"INGERRAND.NS\", \"INTELLECT.NS\", \"INDIGO.NS\", \"IPCALAB.NS\", \"JBCHEPHARM.NS\", \"JKCEMENT.NS\",\n",
        "    \"JBMA.NS\", \"JKLAKSHMI.NS\", \"JKPAPER.NS\", \"JMFINANCIL.NS\", \"JSWENERGY.NS\", \"JSWSTEEL.NS\", \"JAMNAAUTO.NS\", \"JINDALSAW.NS\", \"JSL.NS\", \"JINDALSTEL.NS\", \"JUBLFOOD.NS\", \"JUBLINGREA.NS\", \"JUBLPHARMA.NS\",\n",
        "    \"JUSTDIAL.NS\", \"JYOTHYLAB.NS\", \"KPRMILL.NS\", \"KEI.NS\", \"KNRCON.NS\", \"KPITTECH.NS\", \"KRBL.NS\", \"KSB.NS\", \"KAJARIACER.NS\", \"KPIL.NS\", \"KALYANKJIL.NS\", \"KANSAINER.NS\", \"KARURVYSYA.NS\", \"KAYNES.NS\",\n",
        "    \"KEC.NS\", \"KFINTECH.NS\", \"KOTAKBANK.NS\", \"KIMS.NS\", \"L&TFH.NS\", \"LTTS.NS\", \"LICHSGFIN.NS\", \"LTIM.NS\", \"LAXMIMACH.NS\", \"LT.NS\", \"LATENTVIEW.NS\", \"LAURUSLABS.NS\", \"LXCHEM.NS\", \"LEMONTREE.NS\", \"LICI.NS\",\n",
        "    \"LINDEINDIA.NS\", \"LUPIN.NS\", \"LUXIND.NS\", \"MMTC.NS\", \"MRF.NS\", \"MTARTECH.NS\", \"LODHA.NS\", \"MGL.NS\", \"M&MFIN.NS\", \"M&M.NS\", \"MHRIL.NS\", \"MAHLIFE.NS\", \"MANAPPURAM.NS\", \"MRPL.NS\", \"MANKIND.NS\",\n",
        "    \"MARICO.NS\", \"MARUTI.NS\", \"MASTEK.NS\", \"MFSL.NS\", \"MAXHEALTH.NS\", \"MAZDOCK.NS\", \"MEDPLUS.NS\", \"METROBRAND.NS\", \"METROPOLIS.NS\", \"MINDACORP.NS\", \"MSUMI.NS\", \"MOTILALOFS.NS\", \"MPHASIS.NS\", \"MCX.NS\",\n",
        "    \"MUTHOOTFIN.NS\", \"NATCOPHARM.NS\", \"NBCC.NS\", \"NCC.NS\", \"NHPC.NS\", \"NLCINDIA.NS\", \"NMDC.NS\", \"NSLNISP.NS\", \"NTPC.NS\", \"NH.NS\", \"NATIONALUM.NS\", \"NAVINFLUOR.NS\", \"NAZARA.NS\", \"NESTLEIND.NS\",\n",
        "    \"NETWORK18.NS\", \"NAM-INDIA.NS\", \"NUVOCO.NS\", \"OBEROIRLTY.NS\", \"ONGC.NS\", \"OIL.NS\", \"OLECTRA.NS\", \"PAYTM.NS\", \"OFSS.NS\", \"ORIENTELEC.NS\", \"POLICYBZR.NS\", \"PCBL.NS\", \"PIIND.NS\", \"PNBHOUSING.NS\",\n",
        "    \"PNCINFRA.NS\", \"PVRINOX.NS\", \"PAGEIND.NS\", \"PATANJALI.NS\", \"PERSISTENT.NS\", \"PETRONET.NS\", \"PFIZER.NS\", \"PHOENIXLTD.NS\", \"PIDILITIND.NS\", \"PEL.NS\", \"PPLPHARMA.NS\", \"POLYMED.NS\", \"POLYCAB.NS\", \"POLYPLEX.NS\",\n",
        "    \"POONAWALLA.NS\", \"PFC.NS\", \"POWERGRID.NS\", \"PRAJIND.NS\", \"PRESTIGE.NS\", \"PRINCEPIPE.NS\"]\n",
        "\n",
        "    # 348 stocks are there currently in this list. I will update it later with all the remaining stocks. GPT didn't give me the complete list due to space issues\n",
        "\n",
        "\n",
        "    # Set the end date to the current date\n",
        "    end_date = datetime.today().strftime('%Y-%m-%d')\n",
        "\n",
        "    data = yf.download(nifty50_tickers, start=\"2022-01-01\", end=end_date, progress=False)\n",
        "    return data[\"Close\"]"
      ],
      "metadata": {
        "id": "MlM44Qt1a6bp"
      },
      "execution_count": 5,
      "outputs": []
    },
    {
      "cell_type": "code",
      "source": [
        "def find_stocks_close_to_ma(data, ma_length=44, percent_difference=2, max_percent_difference=2):\n",
        "    result = []\n",
        "\n",
        "    for ticker in data.columns:\n",
        "        # Calculate the moving average using pandas' rolling function\n",
        "        ma = data[ticker].rolling(window=ma_length).mean()\n",
        "\n",
        "        # Calculate the percentage difference between the closing price and the moving average\n",
        "        percent_diff = ((data[ticker] - ma) / data[ticker]) * 100\n",
        "\n",
        "        # print('difference is',percent_diff)\n",
        "\n",
        "        # Check if the closing color is green (close higher than open)\n",
        "        is_green_candle = data[ticker].diff() > 0\n",
        "\n",
        "        # Check if the closing price is within the specified range around the moving average\n",
        "        is_within_range = percent_diff.abs().iloc[-1] <= max_percent_difference\n",
        "\n",
        "        # Filter stocks that meet all the criteria\n",
        "        if is_green_candle.iloc[-1] and is_within_range:\n",
        "            result.append(ticker)\n",
        "\n",
        "    return result"
      ],
      "metadata": {
        "id": "VVMChsLda8sv"
      },
      "execution_count": 17,
      "outputs": []
    },
    {
      "cell_type": "code",
      "source": [
        "if __name__ == \"__main__\":\n",
        "    # Get Nifty 50 data up to the current date\n",
        "    nifty50_data = get_nifty50_data()\n",
        "\n",
        "    # Find stocks close to the moving average with green candles and within the specified range\n",
        "    result = find_stocks_close_to_ma(nifty50_data)\n",
        "\n",
        "    # Display the result (stock names)\n",
        "    print(\"Stocks meeting the criteria:\")\n",
        "    for stock in result:\n",
        "        print(stock)"
      ],
      "metadata": {
        "colab": {
          "base_uri": "https://localhost:8080/"
        },
        "id": "eNvvGobpbAbT",
        "outputId": "68e98ddb-5e5a-4369-c543-44ba92a92d70"
      },
      "execution_count": 18,
      "outputs": [
        {
          "output_type": "stream",
          "name": "stdout",
          "text": [
            "Stocks meeting the criteria:\n",
            "BALKRISIND.NS\n",
            "BATAINDIA.NS\n",
            "BSE.NS\n",
            "CARBORUNIV.NS\n",
            "CCL.NS\n",
            "CGCL.NS\n",
            "DATAPATTNS.NS\n",
            "EICHERMOT.NS\n",
            "FIVESTAR.NS\n",
            "GAEL.NS\n",
            "GALAXYSURF.NS\n",
            "GMMPFAUDLR.NS\n",
            "HOMEFIRST.NS\n",
            "HONAUT.NS\n",
            "ICICIGI.NS\n",
            "ICICIPRULI.NS\n",
            "INDIGOPNTS.NS\n",
            "JINDALSAW.NS\n",
            "KAJARIACER.NS\n",
            "KAYNES.NS\n",
            "KEC.NS\n",
            "KFINTECH.NS\n",
            "M&M.NS\n",
            "MFSL.NS\n",
            "POLICYBZR.NS\n",
            "POLYCAB.NS\n",
            "POLYMED.NS\n"
          ]
        }
      ]
    },
    {
      "cell_type": "code",
      "source": [],
      "metadata": {
        "id": "qNLAEcMzD3jL"
      },
      "execution_count": 18,
      "outputs": []
    },
    {
      "cell_type": "code",
      "source": [
        "end_date = datetime.today().strftime('%Y-%m-%d')\n",
        "\n",
        "data = yf.download([\"BLUEDART.NS\"], start=\"2022-01-01\", end=end_date, progress=False)\n",
        "csv_file_path = \"data.csv\"\n",
        "\n",
        "# Save the data to a CSV file\n",
        "data.to_csv(csv_file_path)\n",
        "# print(data)"
      ],
      "metadata": {
        "id": "UrDxzb7QZwP7"
      },
      "execution_count": 16,
      "outputs": []
    },
    {
      "cell_type": "code",
      "source": [],
      "metadata": {
        "id": "AGYs9X0MEYvs"
      },
      "execution_count": null,
      "outputs": []
    }
  ]
}